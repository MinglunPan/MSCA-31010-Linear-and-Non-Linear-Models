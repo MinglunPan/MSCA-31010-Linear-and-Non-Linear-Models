{
 "cells": [
  {
   "cell_type": "markdown",
   "id": "f4655daa",
   "metadata": {},
   "source": [
    "## 1. Maximum likelihood estimation\n",
    "\n",
    "A set of multi-face dice contains dice with 4, 6, 8, 10, 12 and 20 faces.\n",
    "\n",
    "One die from the set with d faces is rolled 10 times, showing k times out of 10 either 1 or 2. Using maximum likelihood principle, estimate, which of the dice d was rolled.\n",
    "\n",
    "Describe method of estimation.\n",
    "\n",
    "Obtain number k of appearances of either 1 or 2 from the description page in the test application.\n",
    "\n",
    "Enter the estimated number of faces on the rolled die d as the first answer in the quiz."
   ]
  },
  {
   "cell_type": "markdown",
   "id": "67335b34",
   "metadata": {},
   "source": [
    "#### [Answer]"
   ]
  },
  {
   "cell_type": "markdown",
   "id": "748bdd49",
   "metadata": {},
   "source": [
    "Given event A as the rolled dice shows 1 or 2, A follow B\n",
    "\n",
    "$$Pr(A) = 2 \\times \\frac{1}{d} = \\frac{2}{d} $$\n",
    "\n",
    "$$Pr( \\lnot A) = 1-Pr(A) = 1 - \\frac{2}{d} = \\frac{d-2}{d}$$"
   ]
  },
  {
   "cell_type": "markdown",
   "id": "4fdcfeb5",
   "metadata": {},
   "source": [
    "\n",
    "Then, the probability of event B that we roll a dice 10 times, and get k times either 1 or 2 is:\n",
    "\n",
    "$$\n",
    "\\begin{split}\n",
    "Prob &= \\binom{10}{k}Pr(A)^kPr(\\lnot A)^{10-k} \\\\\n",
    "&= \\frac{10!}{k!(10-k)!}Pr(A)^kPr(\\lnot A)^{10-k} \\\\\n",
    "&= \\frac{10!}{k!(10-k)!}{\\frac{2}{d}}^k{\\frac{d-2}{d}}^{10-k}  \\\\\n",
    "&= \\frac{10!}{k!(10-k)!}\\frac{2^k(d-2)^{10-k}}{d^{10}} \n",
    "\\end{split}\\tag{1.3}\n",
    "$$"
   ]
  },
  {
   "cell_type": "markdown",
   "id": "a32d8ff5",
   "metadata": {},
   "source": [
    "$$\n",
    "\\begin{split}\n",
    "logProb &= \\log{10!}+k\\log2 + (10-k)\\log{(d-2)} - \\log{k!} - \\log{(10-k)!} - 10\\log{d} \\\\\n",
    "&= \\log{10!}+k\\log2 + (10-k)\\log{(d-2)} - \\Sigma_{i=1}^{k}\\log{i} - \\Sigma_{i=1}^{10-k}\\log{i} - 10\\log{d}\n",
    "\\end{split}\\tag{1.3}\n",
    "$$"
   ]
  },
  {
   "cell_type": "code",
   "execution_count": 11,
   "id": "42ec553f",
   "metadata": {},
   "outputs": [],
   "source": [
    "import numpy as np\n",
    "import pandas as pd\n",
    "def logP(k, d):\n",
    "    return np.log(np.math.factorial(10)) + k*np.log(2) + (10-k)*np.log(d-2) \\\n",
    "            - np.log(np.math.factorial(k)) - np.log(np.math.factorial(10-k)) - 10 * np.log(d)"
   ]
  },
  {
   "cell_type": "code",
   "execution_count": 12,
   "id": "2dfdd578",
   "metadata": {},
   "outputs": [
    {
     "data": {
      "text/html": [
       "<div>\n",
       "<style scoped>\n",
       "    .dataframe tbody tr th:only-of-type {\n",
       "        vertical-align: middle;\n",
       "    }\n",
       "\n",
       "    .dataframe tbody tr th {\n",
       "        vertical-align: top;\n",
       "    }\n",
       "\n",
       "    .dataframe thead th {\n",
       "        text-align: right;\n",
       "    }\n",
       "</style>\n",
       "<table border=\"1\" class=\"dataframe\">\n",
       "  <thead>\n",
       "    <tr style=\"text-align: right;\">\n",
       "      <th># dices</th>\n",
       "      <th>4</th>\n",
       "      <th>6</th>\n",
       "      <th>8</th>\n",
       "      <th>10</th>\n",
       "      <th>12</th>\n",
       "      <th>20</th>\n",
       "      <th>maximum_dices</th>\n",
       "    </tr>\n",
       "    <tr>\n",
       "      <th># Appearence</th>\n",
       "      <th></th>\n",
       "      <th></th>\n",
       "      <th></th>\n",
       "      <th></th>\n",
       "      <th></th>\n",
       "      <th></th>\n",
       "      <th></th>\n",
       "    </tr>\n",
       "  </thead>\n",
       "  <tbody>\n",
       "    <tr>\n",
       "      <th>0</th>\n",
       "      <td>-6.931472</td>\n",
       "      <td>-4.054651</td>\n",
       "      <td>-2.876821</td>\n",
       "      <td>-2.231436</td>\n",
       "      <td>-1.823216</td>\n",
       "      <td>-1.053605</td>\n",
       "      <td>20</td>\n",
       "    </tr>\n",
       "    <tr>\n",
       "      <th>1</th>\n",
       "      <td>-4.628887</td>\n",
       "      <td>-2.445213</td>\n",
       "      <td>-1.672848</td>\n",
       "      <td>-1.315145</td>\n",
       "      <td>-1.130068</td>\n",
       "      <td>-0.948245</td>\n",
       "      <td>20</td>\n",
       "    </tr>\n",
       "    <tr>\n",
       "      <th>2</th>\n",
       "      <td>-3.124809</td>\n",
       "      <td>-1.634283</td>\n",
       "      <td>-1.267383</td>\n",
       "      <td>-1.197362</td>\n",
       "      <td>-1.235429</td>\n",
       "      <td>-1.641392</td>\n",
       "      <td>10</td>\n",
       "    </tr>\n",
       "    <tr>\n",
       "      <th>3</th>\n",
       "      <td>-2.143980</td>\n",
       "      <td>-1.346601</td>\n",
       "      <td>-1.385166</td>\n",
       "      <td>-1.602827</td>\n",
       "      <td>-1.864038</td>\n",
       "      <td>-2.857787</td>\n",
       "      <td>6</td>\n",
       "    </tr>\n",
       "    <tr>\n",
       "      <th>4</th>\n",
       "      <td>-1.584364</td>\n",
       "      <td>-1.480132</td>\n",
       "      <td>-1.924162</td>\n",
       "      <td>-2.429505</td>\n",
       "      <td>-2.913860</td>\n",
       "      <td>-4.495396</td>\n",
       "      <td>6</td>\n",
       "    </tr>\n",
       "    <tr>\n",
       "      <th>5</th>\n",
       "      <td>-1.402043</td>\n",
       "      <td>-1.990958</td>\n",
       "      <td>-2.840453</td>\n",
       "      <td>-3.633478</td>\n",
       "      <td>-4.340976</td>\n",
       "      <td>-6.510299</td>\n",
       "      <td>4</td>\n",
       "    </tr>\n",
       "    <tr>\n",
       "      <th>6</th>\n",
       "      <td>-1.584364</td>\n",
       "      <td>-2.866427</td>\n",
       "      <td>-4.121387</td>\n",
       "      <td>-5.202094</td>\n",
       "      <td>-6.132736</td>\n",
       "      <td>-8.889845</td>\n",
       "      <td>4</td>\n",
       "    </tr>\n",
       "    <tr>\n",
       "      <th>7</th>\n",
       "      <td>-2.143980</td>\n",
       "      <td>-4.119190</td>\n",
       "      <td>-5.779615</td>\n",
       "      <td>-7.148004</td>\n",
       "      <td>-8.301789</td>\n",
       "      <td>-11.646685</td>\n",
       "      <td>4</td>\n",
       "    </tr>\n",
       "    <tr>\n",
       "      <th>8</th>\n",
       "      <td>-3.124809</td>\n",
       "      <td>-5.793166</td>\n",
       "      <td>-7.859057</td>\n",
       "      <td>-9.515128</td>\n",
       "      <td>-10.892056</td>\n",
       "      <td>-14.824739</td>\n",
       "      <td>4</td>\n",
       "    </tr>\n",
       "    <tr>\n",
       "      <th>9</th>\n",
       "      <td>-4.628887</td>\n",
       "      <td>-7.990391</td>\n",
       "      <td>-10.461746</td>\n",
       "      <td>-12.405500</td>\n",
       "      <td>-14.005572</td>\n",
       "      <td>-18.526041</td>\n",
       "      <td>4</td>\n",
       "    </tr>\n",
       "    <tr>\n",
       "      <th>10</th>\n",
       "      <td>-6.931472</td>\n",
       "      <td>-10.986123</td>\n",
       "      <td>-13.862944</td>\n",
       "      <td>-16.094379</td>\n",
       "      <td>-17.917595</td>\n",
       "      <td>-23.025851</td>\n",
       "      <td>4</td>\n",
       "    </tr>\n",
       "  </tbody>\n",
       "</table>\n",
       "</div>"
      ],
      "text/plain": [
       "# dices              4          6          8         10         12         20  \\\n",
       "# Appearence                                                                    \n",
       "0            -6.931472  -4.054651  -2.876821  -2.231436  -1.823216  -1.053605   \n",
       "1            -4.628887  -2.445213  -1.672848  -1.315145  -1.130068  -0.948245   \n",
       "2            -3.124809  -1.634283  -1.267383  -1.197362  -1.235429  -1.641392   \n",
       "3            -2.143980  -1.346601  -1.385166  -1.602827  -1.864038  -2.857787   \n",
       "4            -1.584364  -1.480132  -1.924162  -2.429505  -2.913860  -4.495396   \n",
       "5            -1.402043  -1.990958  -2.840453  -3.633478  -4.340976  -6.510299   \n",
       "6            -1.584364  -2.866427  -4.121387  -5.202094  -6.132736  -8.889845   \n",
       "7            -2.143980  -4.119190  -5.779615  -7.148004  -8.301789 -11.646685   \n",
       "8            -3.124809  -5.793166  -7.859057  -9.515128 -10.892056 -14.824739   \n",
       "9            -4.628887  -7.990391 -10.461746 -12.405500 -14.005572 -18.526041   \n",
       "10           -6.931472 -10.986123 -13.862944 -16.094379 -17.917595 -23.025851   \n",
       "\n",
       "# dices       maximum_dices  \n",
       "# Appearence                 \n",
       "0                        20  \n",
       "1                        20  \n",
       "2                        10  \n",
       "3                         6  \n",
       "4                         6  \n",
       "5                         4  \n",
       "6                         4  \n",
       "7                         4  \n",
       "8                         4  \n",
       "9                         4  \n",
       "10                        4  "
      ]
     },
     "execution_count": 12,
     "metadata": {},
     "output_type": "execute_result"
    }
   ],
   "source": [
    "dices_list = [4, 6, 8, 10, 12, 20]\n",
    "apearence_times = 11\n",
    "result = pd.DataFrame(\n",
    "    {dice:{k:logP(k,dice) for k in range(apearence_times)} for dice in dices_list},\n",
    ")\n",
    "result['maximum_dices'] = [dices_list[row.argmax()] for row in result.values]\n",
    "result.index.name = '# Appearence'\n",
    "result.columns.name = '# dices'\n",
    "result"
   ]
  },
  {
   "cell_type": "markdown",
   "id": "aa159622",
   "metadata": {},
   "source": [
    "### 2. Testing hypotheses using likelihood ratio\n",
    "\n",
    "Random variable X has uniform distribution on [0,T]."
   ]
  },
  {
   "cell_type": "code",
   "execution_count": 13,
   "id": "85015792",
   "metadata": {},
   "outputs": [],
   "source": [
    "test_sample = pd.read_csv('test_sample.csv')"
   ]
  },
  {
   "cell_type": "code",
   "execution_count": 14,
   "id": "e0a5c45d",
   "metadata": {},
   "outputs": [],
   "source": [
    "def pdf(x,T):\n",
    "    return 1/T\n",
    "def cdf(x,T):\n",
    "    return x/T"
   ]
  },
  {
   "cell_type": "markdown",
   "id": "f24b260c",
   "metadata": {},
   "source": [
    "#### 2.1 Maximum likelihood estimate\n",
    "\n",
    "Derive maximum likelihood estimate for T if the i.i.d. sample x1,…,xn is given.\n",
    "\n",
    "Enter the Maximum Likelihood estimate of T as answer to the second question in the quiz."
   ]
  },
  {
   "cell_type": "markdown",
   "id": "40829b15",
   "metadata": {},
   "source": [
    "$$MLE=\\Pi_{i=1}^nProb(X=x)={\\frac{1}{T}}^n$$"
   ]
  },
  {
   "cell_type": "code",
   "execution_count": 15,
   "id": "bc86f202",
   "metadata": {},
   "outputs": [],
   "source": [
    "def MLE(T, n):\n",
    "    return T^(n)"
   ]
  },
  {
   "cell_type": "code",
   "execution_count": 16,
   "id": "e91333fa",
   "metadata": {},
   "outputs": [
    {
     "data": {
      "text/plain": [
       "x    9.746431\n",
       "dtype: float64"
      ]
     },
     "execution_count": 16,
     "metadata": {},
     "output_type": "execute_result"
    }
   ],
   "source": [
    "test_sample.max()"
   ]
  },
  {
   "cell_type": "markdown",
   "id": "ce94e58b",
   "metadata": {},
   "source": [
    "#### 2.2 Method of moments estimate\n",
    "\n",
    "Recall that estimate for the same parameter can be obtained by method of moments. Derive it using the equation for the first moment of uniform distribution on [0,T].\n",
    "\n",
    "Enter Method of Moments estimate of T in the quiz as answer to the third question."
   ]
  },
  {
   "cell_type": "markdown",
   "id": "1dcaa07f",
   "metadata": {},
   "source": [
    "$$\n",
    "\\begin{split}\n",
    "M_X^t &=E(e^{xt}) \\\\\n",
    "&=\\int_0^T{e^{xt}Pr(X=x)dx} \\\\\n",
    "&=\\int_0^T{e^{xt}\\frac{1}{T}dx} \\\\\n",
    "&=\\frac{1}{T}\\int_0^T{e^{xt}dx} \\\\\n",
    "&=\\frac{1}{T}(\\frac{e^{xt}}{t}|_0^T) \\\\\n",
    "&=\\frac{1}{T}\\frac{e^{Tt}-1}{t} \\\\\n",
    "&=\\frac{e^{Tt}-1}{Tt}\n",
    "\\end{split}\n",
    "$$"
   ]
  },
  {
   "cell_type": "markdown",
   "id": "575d9c29",
   "metadata": {},
   "source": [
    "$$\n",
    "\\begin{split}\n",
    "\\frac{\\partial M_X^t}{\\partial t } &= \\frac{Te^{Tt}Tt-T(e^{Tt}-1)}{(Tt)^2} \\\\\n",
    "&= \\frac{(Tt-1)e^{Tt}+1}{Tt^2}\n",
    "\\end{split}\n",
    "$$\n",
    "\n",
    "By applying L'Hopital's Rule, \n",
    "$$\n",
    "\\begin{split}\n",
    "lim_{t→0}\\frac{\\partial M_X^t}{\\partial t} &=lim_{t→0}\\frac{(Tt-1)e^{Tt}+1}{Tt^2} \\\\\n",
    "&= lim_{t→0}\\frac{(Tt-1)e^{Tt}+e^{Tt}}{2t} \\\\\n",
    "&= lim_{t→0}\\frac{(Tt-1)e^{Tt}+(T+1)e^{Tt}}{2} \\\\\n",
    "&= \\frac{T}{2}\n",
    "\\end{split}\n",
    "$$\n"
   ]
  },
  {
   "cell_type": "code",
   "execution_count": 17,
   "id": "fbb374a1",
   "metadata": {},
   "outputs": [
    {
     "data": {
      "text/plain": [
       "x    10.637446\n",
       "dtype: float64"
      ]
     },
     "execution_count": 17,
     "metadata": {},
     "output_type": "execute_result"
    }
   ],
   "source": [
    "test_sample.mean()*2"
   ]
  },
  {
   "cell_type": "markdown",
   "id": "a8c04114",
   "metadata": {},
   "source": [
    "#### 2.3 Test hypothesis using likelihood ratio"
   ]
  },
  {
   "cell_type": "code",
   "execution_count": 18,
   "id": "4d807f34",
   "metadata": {},
   "outputs": [
    {
     "data": {
      "text/plain": [
       "x    0.773493\n",
       "dtype: float64"
      ]
     },
     "execution_count": 18,
     "metadata": {},
     "output_type": "execute_result"
    }
   ],
   "source": [
    "T0 = 10\n",
    "(test_sample.max() / T0) ** 10"
   ]
  },
  {
   "cell_type": "code",
   "execution_count": null,
   "id": "d7e7b8da",
   "metadata": {},
   "outputs": [],
   "source": []
  }
 ],
 "metadata": {
  "kernelspec": {
   "display_name": "Python 3",
   "language": "python",
   "name": "python3"
  },
  "language_info": {
   "codemirror_mode": {
    "name": "ipython",
    "version": 3
   },
   "file_extension": ".py",
   "mimetype": "text/x-python",
   "name": "python",
   "nbconvert_exporter": "python",
   "pygments_lexer": "ipython3",
   "version": "3.8.8"
  }
 },
 "nbformat": 4,
 "nbformat_minor": 5
}
